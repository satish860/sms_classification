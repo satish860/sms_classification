{
 "cells": [
  {
   "cell_type": "code",
   "execution_count": 22,
   "id": "878cb29b-54f7-4159-aaf8-90c507efb26e",
   "metadata": {},
   "outputs": [],
   "source": [
    "import pandas as pd\n",
    "from transformers import AutoTokenizer,AutoModelForSequenceClassification,Trainer, TrainingArguments\n",
    "from sklearn.model_selection import train_test_split\n",
    "from sklearn.metrics import accuracy_score, f1_score\n",
    "import torch\n",
    "import matplotlib.pyplot as plt\n",
    "import numpy as np"
   ]
  },
  {
   "cell_type": "code",
   "execution_count": 3,
   "id": "85a86a72-0dd6-473a-a56f-6e8a4b6e7069",
   "metadata": {},
   "outputs": [],
   "source": [
    "df = pd.read_csv('Khilnani_LP_spam_detection_data.csv',index_col=0)"
   ]
  },
  {
   "cell_type": "code",
   "execution_count": 4,
   "id": "6b522995-3087-4734-a81e-6d797740a0d5",
   "metadata": {},
   "outputs": [
    {
     "name": "stderr",
     "output_type": "stream",
     "text": [
      "[nltk_data] Downloading package stopwords to /home/nltk_data...\n",
      "[nltk_data]   Package stopwords is already up-to-date!\n"
     ]
    }
   ],
   "source": [
    "import nltk\n",
    "import re\n",
    "nltk.download(\"stopwords\")\n",
    "def clean_text(text):\n",
    "  stopwords = nltk.corpus.stopwords.words('english')\n",
    "  text = text.lower() # Convert to lower case\n",
    "  text = re.sub(r'[^\\w\\s]', '', text) # Remove everything except words\n",
    "  words = [word for word in text.split() if word not in stopwords] # Remove stopwords\n",
    "  text = \" \".join(words)\n",
    "  return text"
   ]
  },
  {
   "cell_type": "code",
   "execution_count": 5,
   "id": "df9474cd-bb10-40c9-a96a-3cce751c7da5",
   "metadata": {},
   "outputs": [],
   "source": [
    "df['SMS'] = df['SMS'].apply(clean_text)"
   ]
  },
  {
   "cell_type": "code",
   "execution_count": 6,
   "id": "2c3b1e2a-e139-40d0-afdd-3462996dde97",
   "metadata": {},
   "outputs": [],
   "source": [
    "def label_name(label):\n",
    "    return 'Spam' if label == 1 else 'Not Spam'"
   ]
  },
  {
   "cell_type": "code",
   "execution_count": 7,
   "id": "07f953b9-2753-4587-a967-1d96632c748e",
   "metadata": {},
   "outputs": [],
   "source": [
    "df['label_name'] = df['label'].apply(label_name)"
   ]
  },
  {
   "cell_type": "code",
   "execution_count": 8,
   "id": "98c1453f-91e9-47b5-bb88-a28df9e5a411",
   "metadata": {},
   "outputs": [
    {
     "data": {
      "image/png": "[encoded data removed]",
      "text/plain": [
       "<Figure size 432x288 with 1 Axes>"
      ]
     },
     "metadata": {
      "needs_background": "light"
     },
     "output_type": "display_data"
    }
   ],
   "source": [
    "df[\"label_name\"].value_counts(ascending=True).plot.barh()\n",
    "plt.title(\"Category Counts\");"
   ]
  },
  {
   "cell_type": "code",
   "execution_count": 9,
   "id": "9f3dfe70-064f-44e2-9312-7553ef3d283d",
   "metadata": {},
   "outputs": [
    {
     "data": {
      "image/png": "[encoded data removed]",
      "text/plain": [
       "<Figure size 432x288 with 1 Axes>"
      ]
     },
     "metadata": {
      "needs_background": "light"
     },
     "output_type": "display_data"
    }
   ],
   "source": [
    "df[\"Words Per SMS\"] = df[\"SMS\"].str.split().apply(len)\n",
    "df.boxplot(\"Words Per SMS\", by='label_name', grid=False, showfliers=False,\n",
    "           color='black', )\n",
    "plt.suptitle(\"\")\n",
    "plt.xlabel(\"\");"
   ]
  },
  {
   "cell_type": "code",
   "execution_count": 10,
   "id": "1b58fc0d-c936-487a-b9c5-a56cf99aaf41",
   "metadata": {},
   "outputs": [],
   "source": [
    "model_name = \"distilbert-base-uncased\"\n",
    "tokenizer = AutoTokenizer.from_pretrained(model_name)"
   ]
  },
  {
   "cell_type": "code",
   "execution_count": 11,
   "id": "8f0697d3-701b-4983-9f49-568f46773f4b",
   "metadata": {},
   "outputs": [],
   "source": [
    "x = df[\"SMS\"].values\n",
    "y = df[\"label\"].values\n",
    "\n",
    "# Split into training and validation sets\n",
    "\n",
    "train_data, val_data, train_labels, val_labels = train_test_split(x, y)"
   ]
  },
  {
   "cell_type": "code",
   "execution_count": 12,
   "id": "8704385a-6bc1-47ca-9836-a37f05499178",
   "metadata": {},
   "outputs": [],
   "source": [
    "train_tokens = tokenizer(list(train_data), return_tensors=\"pt\", padding=True, truncation=True, max_length=64)\n",
    "val_tokens = tokenizer(list(val_data), return_tensors=\"pt\", padding=True, truncation=True, max_length=64)"
   ]
  },
  {
   "cell_type": "code",
   "execution_count": 13,
   "id": "3f2649a5-23bf-4f1c-914c-f395e839f7e1",
   "metadata": {},
   "outputs": [],
   "source": [
    "class SMSDataset(torch.utils.data.Dataset):\n",
    "    def __init__(self, encodings, labels):\n",
    "        self.encodings = encodings\n",
    "        self.labels = labels\n",
    "\n",
    "    def __getitem__(self, idx):\n",
    "        item = {key: torch.tensor(val[idx]) for key, val in self.encodings.items()}\n",
    "        item['labels'] = torch.tensor(self.labels[idx])\n",
    "        return item\n",
    "\n",
    "    def __len__(self):\n",
    "        return len(self.labels)"
   ]
  },
  {
   "cell_type": "code",
   "execution_count": 14,
   "id": "88b0454f-7079-4deb-960f-c044c63439de",
   "metadata": {},
   "outputs": [],
   "source": [
    "train_dataset = SMSDataset(train_tokens, list(train_labels))\n",
    "val_dataset = SMSDataset(val_tokens, list(val_labels))"
   ]
  },
  {
   "cell_type": "code",
   "execution_count": 15,
   "id": "7cf131f4-921f-474b-916b-74676dd6d3f9",
   "metadata": {},
   "outputs": [
    {
     "name": "stderr",
     "output_type": "stream",
     "text": [
      "Some weights of the model checkpoint at distilbert-base-uncased were not used when initializing DistilBertForSequenceClassification: ['vocab_projector.bias', 'vocab_layer_norm.bias', 'vocab_layer_norm.weight', 'vocab_transform.bias', 'vocab_transform.weight', 'vocab_projector.weight']\n",
      "- This IS expected if you are initializing DistilBertForSequenceClassification from the checkpoint of a model trained on another task or with another architecture (e.g. initializing a BertForSequenceClassification model from a BertForPreTraining model).\n",
      "- This IS NOT expected if you are initializing DistilBertForSequenceClassification from the checkpoint of a model that you expect to be exactly identical (initializing a BertForSequenceClassification model from a BertForSequenceClassification model).\n",
      "Some weights of DistilBertForSequenceClassification were not initialized from the model checkpoint at distilbert-base-uncased and are newly initialized: ['classifier.bias', 'pre_classifier.bias', 'pre_classifier.weight', 'classifier.weight']\n",
      "You should probably TRAIN this model on a down-stream task to be able to use it for predictions and inference.\n"
     ]
    }
   ],
   "source": [
    "device = torch.device(\"cuda\" if torch.cuda.is_available() else \"cpu\")\n",
    "model = (AutoModelForSequenceClassification\n",
    "         .from_pretrained(model_name)\n",
    "         .to(device))"
   ]
  },
  {
   "cell_type": "code",
   "execution_count": 16,
   "id": "450e60c6-633a-49ba-99e0-d09a71d925d5",
   "metadata": {},
   "outputs": [],
   "source": [
    "def compute_metrics(pred):\n",
    "    labels = pred.label_ids\n",
    "    preds = pred.predictions.argmax(-1)\n",
    "    f1 = f1_score(labels, preds, average=\"weighted\")\n",
    "    acc = accuracy_score(labels, preds)\n",
    "    return {\"accuracy\": acc, \"f1\": f1}"
   ]
  },
  {
   "cell_type": "code",
   "execution_count": 17,
   "id": "666fc54b-12fb-40a9-a078-de7cfadcfb71",
   "metadata": {},
   "outputs": [],
   "source": [
    "batch_size = 64\n",
    "training_args = TrainingArguments(output_dir=\"results\",\n",
    "                                  num_train_epochs=2,\n",
    "                                  learning_rate=2e-5,\n",
    "                                  per_device_train_batch_size=batch_size,\n",
    "                                  per_device_eval_batch_size=batch_size,\n",
    "                                  load_best_model_at_end=True,\n",
    "                                  metric_for_best_model=\"f1\",\n",
    "                                  weight_decay=0.01,\n",
    "                                  evaluation_strategy=\"epoch\",\n",
    "                                  save_strategy = \"epoch\",\n",
    "                                  disable_tqdm=False,\n",
    "                                  logging_steps=64)"
   ]
  },
  {
   "cell_type": "code",
   "execution_count": 18,
   "id": "f55454f5-158b-45d6-9544-753c4da684ea",
   "metadata": {},
   "outputs": [
    {
     "name": "stderr",
     "output_type": "stream",
     "text": [
      "***** Running training *****\n",
      "  Num examples = 4180\n",
      "  Num Epochs = 2\n",
      "  Instantaneous batch size per device = 64\n",
      "  Total train batch size (w. parallel, distributed & accumulation) = 64\n",
      "  Gradient Accumulation steps = 1\n",
      "  Total optimization steps = 132\n",
      "/tmp/ipykernel_467/2453827660.py:7: UserWarning: To copy construct from a tensor, it is recommended to use sourceTensor.clone().detach() or sourceTensor.clone().detach().requires_grad_(True), rather than torch.tensor(sourceTensor).\n",
      "  item = {key: torch.tensor(val[idx]) for key, val in self.encodings.items()}\n"
     ]
    },
    {
     "data": {
      "text/html": [
       "\n",
       "    <div>\n",
       "      \n",
       "      <progress value='132' max='132' style='width:300px; height:20px; vertical-align: middle;'></progress>\n",
       "      [132/132 00:25, Epoch 2/2]\n",
       "    </div>\n",
       "    <table border=\"1\" class=\"dataframe\">\n",
       "  <thead>\n",
       "    <tr style=\"text-align: left;\">\n",
       "      <th>Epoch</th>\n",
       "      <th>Training Loss</th>\n",
       "      <th>Validation Loss</th>\n",
       "      <th>Accuracy</th>\n",
       "      <th>F1</th>\n",
       "    </tr>\n",
       "  </thead>\n",
       "  <tbody>\n",
       "    <tr>\n",
       "      <td>1</td>\n",
       "      <td>0.193700</td>\n",
       "      <td>0.063132</td>\n",
       "      <td>0.982783</td>\n",
       "      <td>0.982664</td>\n",
       "    </tr>\n",
       "    <tr>\n",
       "      <td>2</td>\n",
       "      <td>0.041700</td>\n",
       "      <td>0.055004</td>\n",
       "      <td>0.985653</td>\n",
       "      <td>0.985620</td>\n",
       "    </tr>\n",
       "  </tbody>\n",
       "</table><p>"
      ],
      "text/plain": [
       "<IPython.core.display.HTML object>"
      ]
     },
     "metadata": {},
     "output_type": "display_data"
    },
    {
     "name": "stderr",
     "output_type": "stream",
     "text": [
      "***** Running Evaluation *****\n",
      "  Num examples = 1394\n",
      "  Batch size = 64\n",
      "Saving model checkpoint to results/checkpoint-66\n",
      "Configuration saved in results/checkpoint-66/config.json\n",
      "Model weights saved in results/checkpoint-66/pytorch_model.bin\n",
      "/tmp/ipykernel_467/2453827660.py:7: UserWarning: To copy construct from a tensor, it is recommended to use sourceTensor.clone().detach() or sourceTensor.clone().detach().requires_grad_(True), rather than torch.tensor(sourceTensor).\n",
      "  item = {key: torch.tensor(val[idx]) for key, val in self.encodings.items()}\n",
      "***** Running Evaluation *****\n",
      "  Num examples = 1394\n",
      "  Batch size = 64\n",
      "Saving model checkpoint to results/checkpoint-132\n",
      "Configuration saved in results/checkpoint-132/config.json\n",
      "Model weights saved in results/checkpoint-132/pytorch_model.bin\n",
      "\n",
      "\n",
      "Training completed. Do not forget to share your model on huggingface.co/models =)\n",
      "\n",
      "\n",
      "Loading best model from results/checkpoint-132 (score: 0.9856199549817359).\n"
     ]
    }
   ],
   "source": [
    "trainer = Trainer(model=model, args=training_args,\n",
    "                  compute_metrics=compute_metrics,\n",
    "                  train_dataset=train_dataset,\n",
    "                  eval_dataset=val_dataset)\n",
    "trainer.train();"
   ]
  },
  {
   "cell_type": "code",
   "execution_count": 19,
   "id": "775fcada-f5cb-47a5-b2ef-8835fc3ea1fe",
   "metadata": {},
   "outputs": [
    {
     "name": "stderr",
     "output_type": "stream",
     "text": [
      "***** Running Evaluation *****\n",
      "  Num examples = 1394\n",
      "  Batch size = 64\n",
      "/tmp/ipykernel_467/2453827660.py:7: UserWarning: To copy construct from a tensor, it is recommended to use sourceTensor.clone().detach() or sourceTensor.clone().detach().requires_grad_(True), rather than torch.tensor(sourceTensor).\n",
      "  item = {key: torch.tensor(val[idx]) for key, val in self.encodings.items()}\n"
     ]
    },
    {
     "data": {
      "text/html": [
       "\n",
       "    <div>\n",
       "      \n",
       "      <progress value='44' max='22' style='width:300px; height:20px; vertical-align: middle;'></progress>\n",
       "      [22/22 00:05]\n",
       "    </div>\n",
       "    "
      ],
      "text/plain": [
       "<IPython.core.display.HTML object>"
      ]
     },
     "metadata": {},
     "output_type": "display_data"
    }
   ],
   "source": [
    "results = trainer.evaluate()"
   ]
  },
  {
   "cell_type": "code",
   "execution_count": 20,
   "id": "940d4c63-60b7-4b36-af1b-bea6fd0b9f61",
   "metadata": {},
   "outputs": [
    {
     "name": "stderr",
     "output_type": "stream",
     "text": [
      "***** Running Prediction *****\n",
      "  Num examples = 1394\n",
      "  Batch size = 64\n",
      "/tmp/ipykernel_467/2453827660.py:7: UserWarning: To copy construct from a tensor, it is recommended to use sourceTensor.clone().detach() or sourceTensor.clone().detach().requires_grad_(True), rather than torch.tensor(sourceTensor).\n",
      "  item = {key: torch.tensor(val[idx]) for key, val in self.encodings.items()}\n"
     ]
    }
   ],
   "source": [
    "preds_output = trainer.predict(val_dataset)"
   ]
  },
  {
   "cell_type": "code",
   "execution_count": 21,
   "id": "7f67449b-3f35-4247-9912-41f896319e7d",
   "metadata": {},
   "outputs": [
    {
     "data": {
      "text/plain": [
       "{'test_loss': 0.05500366538763046,\n",
       " 'test_accuracy': 0.9856527977044476,\n",
       " 'test_f1': 0.9856199549817359,\n",
       " 'test_runtime': 1.1298,\n",
       " 'test_samples_per_second': 1233.823,\n",
       " 'test_steps_per_second': 19.472}"
      ]
     },
     "execution_count": 21,
     "metadata": {},
     "output_type": "execute_result"
    }
   ],
   "source": [
    "preds_output.metrics"
   ]
  },
  {
   "cell_type": "code",
   "execution_count": 23,
   "id": "04fc74d9-a258-416f-9a33-61323458aa64",
   "metadata": {},
   "outputs": [],
   "source": [
    "y_preds = np.argmax(preds_output.predictions, axis=1)"
   ]
  },
  {
   "cell_type": "code",
   "execution_count": 24,
   "id": "1727d532-96e0-42e2-8e52-d0c0c903ea79",
   "metadata": {},
   "outputs": [],
   "source": [
    "from sklearn.metrics import classification_report,plot_confusion_matrix"
   ]
  },
  {
   "cell_type": "code",
   "execution_count": 25,
   "id": "ec8659d6-372f-44cf-8764-77d6973d75c7",
   "metadata": {},
   "outputs": [
    {
     "name": "stdout",
     "output_type": "stream",
     "text": [
      "              precision    recall  f1-score   support\n",
      "\n",
      "    Not Spam       0.99      0.99      0.99      1208\n",
      "        SPAM       0.95      0.94      0.95       186\n",
      "\n",
      "    accuracy                           0.99      1394\n",
      "   macro avg       0.97      0.97      0.97      1394\n",
      "weighted avg       0.99      0.99      0.99      1394\n",
      "\n"
     ]
    }
   ],
   "source": [
    "print(classification_report(val_labels, y_preds, target_names=['Not Spam','SPAM']))"
   ]
  },
  {
   "cell_type": "code",
   "execution_count": 26,
   "id": "655797b6-f219-4bd9-8373-972d4d3c2ce8",
   "metadata": {},
   "outputs": [],
   "source": [
    "custom_sms = \"YOUR WHATS-APP NO HAVE BEEN AWARDED 500,000USD IN IPHONE & WHATS-APP COMPANY PROMO.TO CLAIM SEND UR NAME ADDS AGE MOBILE\"\n",
    "custom_sms = clean_text(custom_sms)\n",
    "input_tensor = tokenizer.encode(custom_sms, return_tensors=\"pt\").to(\"cuda\")\n",
    "logits = model(input_tensor).logits"
   ]
  },
  {
   "cell_type": "code",
   "execution_count": 27,
   "id": "fd20e2e3-056e-4867-af98-6887242968df",
   "metadata": {},
   "outputs": [
    {
     "data": {
      "text/plain": [
       "tensor([[-1.5867,  1.2464]], device='cuda:0', grad_fn=<AddmmBackward>)"
      ]
     },
     "execution_count": 27,
     "metadata": {},
     "output_type": "execute_result"
    }
   ],
   "source": [
    "logits"
   ]
  },
  {
   "cell_type": "code",
   "execution_count": 28,
   "id": "e3d8a3df-ba0c-440d-89bb-c7b36210c0d4",
   "metadata": {},
   "outputs": [],
   "source": [
    "softmax = torch.nn.Softmax(dim=1)\n",
    "probs = softmax(logits)[0]\n",
    "probs = probs.cpu().detach().numpy()"
   ]
  },
  {
   "cell_type": "code",
   "execution_count": 29,
   "id": "4cd42dd5-38cc-45ad-88b0-18a2e894db33",
   "metadata": {},
   "outputs": [
    {
     "data": {
      "text/plain": [
       "array([0.05556234, 0.9444377 ], dtype=float32)"
      ]
     },
     "execution_count": 29,
     "metadata": {},
     "output_type": "execute_result"
    }
   ],
   "source": [
    "probs"
   ]
  },
  {
   "cell_type": "code",
   "execution_count": 30,
   "id": "9eb3174a-4320-4f28-b89d-edc9121f9750",
   "metadata": {},
   "outputs": [
    {
     "name": "stderr",
     "output_type": "stream",
     "text": [
      "Saving model checkpoint to models/distilbert-sms_spam\n",
      "Configuration saved in models/distilbert-sms_spam/config.json\n",
      "Model weights saved in models/distilbert-sms_spam/pytorch_model.bin\n",
      "tokenizer config file saved in models/sms_spam/tokenizer_config.json\n",
      "Special tokens file saved in models/sms_spam/special_tokens_map.json\n"
     ]
    },
    {
     "data": {
      "text/plain": [
       "('models/sms_spam/tokenizer_config.json',\n",
       " 'models/sms_spam/special_tokens_map.json',\n",
       " 'models/sms_spam/vocab.txt',\n",
       " 'models/sms_spam/added_tokens.json',\n",
       " 'models/sms_spam/tokenizer.json')"
      ]
     },
     "execution_count": 30,
     "metadata": {},
     "output_type": "execute_result"
    }
   ],
   "source": [
    "trainer.save_model(\"models/distilbert-sms_spam\")\n",
    "tokenizer.save_pretrained(\"models/sms_spam\")"
   ]
  },
  {
   "cell_type": "code",
   "execution_count": null,
   "id": "0edeaf86-1ddc-4723-b9ea-bc35106b263e",
   "metadata": {},
   "outputs": [],
   "source": []
  }
 ],
 "metadata": {
  "kernelspec": {
   "display_name": "Python 3 (ipykernel)",
   "language": "python",
   "name": "python3"
  },
  "language_info": {
   "codemirror_mode": {
    "name": "ipython",
    "version": 3
   },
   "file_extension": ".py",
   "mimetype": "text/x-python",
   "name": "python",
   "nbconvert_exporter": "python",
   "pygments_lexer": "ipython3",
   "version": "3.8.10"
  }
 },
 "nbformat": 4,
 "nbformat_minor": 5
}
